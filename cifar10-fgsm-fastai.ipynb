{
 "cells": [
  {
   "cell_type": "code",
   "execution_count": 1,
   "metadata": {},
   "outputs": [],
   "source": [
    "%reload_ext autoreload\n",
    "%autoreload 2\n",
    "%matplotlib inline"
   ]
  },
  {
   "cell_type": "code",
   "execution_count": 2,
   "metadata": {},
   "outputs": [],
   "source": [
    "from fastai.vision import *\n",
    "from fastai.vision.models.wrn import wrn_22\n",
    "from fastai.metrics import accuracy\n",
    "import torch\n",
    "import torch.nn as nn\n",
    "device = torch.device('cuda' if torch.cuda.is_available() else 'cpu')"
   ]
  },
  {
   "cell_type": "code",
   "execution_count": 3,
   "metadata": {},
   "outputs": [],
   "source": [
    "path = untar_data(URLs.CIFAR)\n",
    "bs=64\n",
    "ds_tfms = ([*rand_pad(4, 32), flip_lr(p=0.5)], [])\n",
    "data = ImageDataBunch.from_folder(path, valid='test', ds_tfms=ds_tfms, bs=bs).normalize(cifar_stats)"
   ]
  },
  {
   "cell_type": "code",
   "execution_count": 4,
   "metadata": {},
   "outputs": [],
   "source": [
    "# Callback for generating FGSM perturbation\n",
    "class FGSM(LearnerCallback):\n",
    "    def __init__(self):\n",
    "        super().__init__(learn)\n",
    "        self.model = learn.model\n",
    "        \n",
    "    def on_batch_begin(self, **kwargs):\n",
    "        X = kwargs['last_input'].clone()\n",
    "        y = kwargs['last_target']\n",
    "        if not kwargs['train']:       \n",
    "            X = self.fgsm(X, y)\n",
    "            return {'last_input': X}\n",
    "    \n",
    "    def fgsm(self, X, y, epsilon=8/255):\n",
    "        x = X.clone().detach()\n",
    "        x = to_device(x, device)\n",
    "        y = to_device(y, device)\n",
    "        x = x.requires_grad_(True)\n",
    "        with torch.enable_grad():\n",
    "            out = self.model(x)\n",
    "            losses = nn.CrossEntropyLoss(reduction='none')(out, y)\n",
    "            loss = torch.mean(losses)\n",
    "            grad, = torch.autograd.grad(loss, [x])\n",
    "        x = x + torch.sign(grad) * epsilon\n",
    "        x = torch.clamp(x, 0, 1)\n",
    "        return x"
   ]
  },
  {
   "cell_type": "code",
   "execution_count": 5,
   "metadata": {},
   "outputs": [],
   "source": [
    "# Create a learner\n",
    "learn = Learner(data, wrn_22(), metrics=accuracy).to_fp16()"
   ]
  },
  {
   "cell_type": "code",
   "execution_count": 6,
   "metadata": {},
   "outputs": [
    {
     "data": {
      "text/html": [
       "<table border=\"1\" class=\"dataframe\">\n",
       "  <thead>\n",
       "    <tr style=\"text-align: left;\">\n",
       "      <th>epoch</th>\n",
       "      <th>train_loss</th>\n",
       "      <th>valid_loss</th>\n",
       "      <th>accuracy</th>\n",
       "      <th>time</th>\n",
       "    </tr>\n",
       "  </thead>\n",
       "  <tbody>\n",
       "    <tr>\n",
       "      <td>0</td>\n",
       "      <td>1.125276</td>\n",
       "      <td>1.363153</td>\n",
       "      <td>0.524000</td>\n",
       "      <td>00:35</td>\n",
       "    </tr>\n",
       "    <tr>\n",
       "      <td>1</td>\n",
       "      <td>0.635978</td>\n",
       "      <td>0.564234</td>\n",
       "      <td>0.801600</td>\n",
       "      <td>00:34</td>\n",
       "    </tr>\n",
       "  </tbody>\n",
       "</table>"
      ],
      "text/plain": [
       "<IPython.core.display.HTML object>"
      ]
     },
     "metadata": {},
     "output_type": "display_data"
    }
   ],
   "source": [
    "# Train model\n",
    "learn.fit_one_cycle(2, 3e-3, wd=0.4, div_factor=10, pct_start=0.5)"
   ]
  },
  {
   "cell_type": "code",
   "execution_count": 7,
   "metadata": {},
   "outputs": [],
   "source": [
    "# Generate FGSM perturbation\n",
    "# learn.to_fp32() # This is a workaround for \"RuntimeError: expected scalar type Half but found Float\" due to Mixed Precision trainig\n",
    "# learn.validate(data.valid_dl, callbacks=[FGSM()])"
   ]
  },
  {
   "cell_type": "code",
   "execution_count": 25,
   "metadata": {},
   "outputs": [],
   "source": [
    "x, y = data.one_batch()"
   ]
  },
  {
   "cell_type": "code",
   "execution_count": 26,
   "metadata": {},
   "outputs": [
    {
     "data": {
      "image/png": "[encoded data removed]",
      "text/plain": [
       "<Figure size 216x216 with 1 Axes>"
      ]
     },
     "metadata": {
      "needs_background": "light"
     },
     "output_type": "display_data"
    }
   ],
   "source": [
    "# Original image\n",
    "img = Image(x[0])\n",
    "img.show()"
   ]
  },
  {
   "cell_type": "code",
   "execution_count": 27,
   "metadata": {},
   "outputs": [
    {
     "data": {
      "text/plain": [
       "(Category deer,\n",
       " tensor(4),\n",
       " tensor([5.2740e-04, 4.1687e-05, 4.4127e-02, 3.6583e-03, 9.1325e-01, 1.2043e-02,\n",
       "         4.2262e-03, 2.1994e-02, 9.5307e-05, 3.5030e-05]))"
      ]
     },
     "execution_count": 27,
     "metadata": {},
     "output_type": "execute_result"
    }
   ],
   "source": [
    "learn.predict(img)"
   ]
  },
  {
   "cell_type": "code",
   "execution_count": 28,
   "metadata": {},
   "outputs": [],
   "source": [
    "learn.to_fp32() # This is a workaround for \"RuntimeError: expected scalar type Half but found Float\" due to Mixed Precision trainig\n",
    "x_adv = FGSM().fgsm(x, y, epsilon=0.03)"
   ]
  },
  {
   "cell_type": "code",
   "execution_count": 29,
   "metadata": {},
   "outputs": [
    {
     "data": {
      "image/png": "[encoded data removed]",
      "text/plain": [
       "<Figure size 216x216 with 1 Axes>"
      ]
     },
     "metadata": {
      "needs_background": "light"
     },
     "output_type": "display_data"
    }
   ],
   "source": [
    "# Adversarial image\n",
    "adv_img = Image(x_adv[0].detach()) # Detach to wrokaround \"RuntimeError: Can't call numpy() on Variable that requires grad. Use var.detach().numpy() instead.\"\n",
    "adv_img.show()"
   ]
  },
  {
   "cell_type": "code",
   "execution_count": 30,
   "metadata": {},
   "outputs": [
    {
     "data": {
      "text/plain": [
       "(Category bird,\n",
       " tensor(2),\n",
       " tensor([0.0055, 0.0013, 0.4782, 0.0310, 0.3574, 0.0369, 0.0727, 0.0149, 0.0012,\n",
       "         0.0009]))"
      ]
     },
     "execution_count": 30,
     "metadata": {},
     "output_type": "execute_result"
    }
   ],
   "source": [
    "learn.predict(Image(x_adv[0].cpu())) # Moving the data back to cpu gets around \"RuntimeError: cannot pin 'torch.cuda.FloatTensor' only dense CPU tensors can be pinned\""
   ]
  }
 ],
 "metadata": {
  "kernelspec": {
   "display_name": "Python 3",
   "language": "python",
   "name": "python3"
  },
  "language_info": {
   "codemirror_mode": {
    "name": "ipython",
    "version": 3
   },
   "file_extension": ".py",
   "mimetype": "text/x-python",
   "name": "python",
   "nbconvert_exporter": "python",
   "pygments_lexer": "ipython3",
   "version": "3.6.9"
  }
 },
 "nbformat": 4,
 "nbformat_minor": 4
}
